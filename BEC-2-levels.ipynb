{
 "cells": [
  {
   "cell_type": "code",
   "execution_count": 1,
   "metadata": {
    "collapsed": true
   },
   "outputs": [],
   "source": [
    "import numpy as np\n",
    "import matplotlib.pyplot as plt\n",
    "import scipy.constants as cst"
   ]
  },
  {
   "cell_type": "markdown",
   "metadata": {},
   "source": [
    "# Two-level BEC"
   ]
  },
  {
   "cell_type": "code",
   "execution_count": 3,
   "metadata": {
    "collapsed": true
   },
   "outputs": [],
   "source": [
    "# Ground-state: E=0\n",
    "# First excited state: energy E\n",
    "# Temperature unit: E/kB\n",
    "N=10000 # total number of particles "
   ]
  },
  {
   "cell_type": "markdown",
   "metadata": {},
   "source": [
    "# Two-level BEC without degeneracy"
   ]
  },
  {
   "cell_type": "code",
   "execution_count": 4,
   "metadata": {
    "collapsed": false
   },
   "outputs": [],
   "source": [
    "# http://faculty.washington.edu/goussiou/486_W15/Saxberg_BoseEinstein.pdf\n",
    "def Nexc(N,T):\n",
    "    ### mean number of bosons in excited state\n",
    "    r=np.exp(-1/T)\n",
    "    return (r-(N+1-N*r)*r**(N+1))/(1-r)/(1-r**(N+1))\n",
    "\n",
    "T=np.arange(0.01,200,0.01)\n",
    "plt.plot(T,N-Nexc(N,T))\n",
    "plt.show()\n",
    "# no critical temperature visible (actually infinite)"
   ]
  },
  {
   "cell_type": "markdown",
   "metadata": {},
   "source": [
    "# Two-level BEC with degeneracy "
   ]
  },
  {
   "cell_type": "code",
   "execution_count": 5,
   "metadata": {
    "collapsed": false
   },
   "outputs": [
    {
     "name": "stdout",
     "output_type": "stream",
     "text": [
      "Critical temperature estimate = 0.558110626551\n",
      "2.57855615463e-30\n",
      "1.7009519037e-07\n"
     ]
    }
   ],
   "source": [
    "N=2000\n",
    "g=10000\n",
    "def x(N,g,T): # exp(-mu/kB T) should be larger than 1 and tend to 1 for T->0\n",
    "    r1=np.exp(1/T) # r^{-1}\n",
    "    b=r1+1+(r1+g)/N\n",
    "    return (b+np.sqrt(b**2-4*r1*(g+1)/N-4*r1))/2/r1\n",
    "\n",
    "Tc=1/np.log(1+np.float(g)/N)\n",
    "print 'Critical temperature estimate =', Tc\n",
    "print cst.Boltzmann*170e-9*np.log(3)\n",
    "print 2.58e-30/cst.Boltzmann/np.log(3)"
   ]
  },
  {
   "cell_type": "code",
   "execution_count": 19,
   "metadata": {
    "collapsed": false
   },
   "outputs": [],
   "source": [
    "Tmax=(3*Tc).astype(int)+1\n",
    "T=np.arange(0.01,Tmax,0.001)\n",
    "#plt.plot(T,x(N,g,T))\n",
    "#plt.plot(T,1/(x(N,g,T)-1)/N, T, g/(np.exp(1/T)*x(N,g,T)-1)/N)\n",
    "plt.plot(T, 1/(x(N/1000,g/1000,T)-1)/(N/1000), T, 1/(x(N/100,g/100,T)-1)/(N/100),\n",
    "         T, 1/(x(N,g,T)-1)/N, T, 1/(x(N*100,g*100,T)-1)/100/N)\n",
    "plt.plot(T, 1/(x(N/1000,g/100,T)-1)/(N/1000), T, 1/(x(N/100,g/10,T)-1)/(N/100),\n",
    "         T, 1/(x(N,g*10,T)-1)/N, T,1/(x(N*100,g*1000,T)-1)/100/N,)\n",
    "plt.grid()\n",
    "plt.xlim(0,Tmax)\n",
    "plt.ylim(-0.5,1.5)\n",
    "plt.title('2-level Bose-Einstein condensate, $N$ particles, excitation energy $\\epsilon$, degeneracy $g$')\n",
    "plt.xlabel('$T \\ (\\epsilon/k_B$)')\n",
    "plt.ylabel('$N_0/N$')\n",
    "plt.legend(['$g/N=5, N=2$', '$N=20$', '$N=2000$', '$N=200000$', '$g/N=50, N=2$', '$N=20$', '$N=2000$', '$N=200000$'])\n",
    "plt.show()"
   ]
  },
  {
   "cell_type": "code",
   "execution_count": null,
   "metadata": {
    "collapsed": true
   },
   "outputs": [],
   "source": []
  }
 ],
 "metadata": {
  "kernelspec": {
   "display_name": "Python 2",
   "language": "python",
   "name": "python2"
  },
  "language_info": {
   "codemirror_mode": {
    "name": "ipython",
    "version": 2
   },
   "file_extension": ".py",
   "mimetype": "text/x-python",
   "name": "python",
   "nbconvert_exporter": "python",
   "pygments_lexer": "ipython2",
   "version": "2.7.10"
  }
 },
 "nbformat": 4,
 "nbformat_minor": 0
}
